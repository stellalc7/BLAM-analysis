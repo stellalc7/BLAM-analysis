{
 "cells": [
  {
   "cell_type": "code",
   "execution_count": 261,
   "metadata": {
    "collapsed": true
   },
   "outputs": [],
   "source": [
    "import pandas as pd\n",
    "import numpy as np\n",
    "from __future__ import division\n",
    "import calendar\n",
    "import time\n",
    "import datetime\n",
    "from datetime import date, timedelta\n",
    "import matplotlib.pyplot as plt\n",
    "%matplotlib inline\n",
    "import seaborn as sns\n",
    "from scipy import stats"
   ]
  },
  {
   "cell_type": "code",
   "execution_count": 262,
   "metadata": {
    "collapsed": false
   },
   "outputs": [],
   "source": [
    "file1=pd.read_table('/Users/stella/Desktop/Exported 1s data until 215PM.txt')\n",
    "file2=pd.read_table('/Users/stella/Desktop/Exported 1s data after 215PM.txt')"
   ]
  },
  {
   "cell_type": "code",
   "execution_count": 263,
   "metadata": {
    "collapsed": false
   },
   "outputs": [],
   "source": [
    "df1=file1.copy(False)\n",
    "df2=file2.copy(False)"
   ]
  },
  {
   "cell_type": "code",
   "execution_count": 264,
   "metadata": {
    "collapsed": true
   },
   "outputs": [],
   "source": [
    "del df1['relative time [s]']\n",
    "del df2['relative time [s]']"
   ]
  },
  {
   "cell_type": "code",
   "execution_count": 265,
   "metadata": {
    "collapsed": true
   },
   "outputs": [],
   "source": [
    "df1['time']=pd.to_datetime(df1['time'], format = \"%I:%M:%S %p\").apply(lambda x: x.time())\n",
    "df2['time']=pd.to_datetime(df2['time'], format = \"%I:%M:%S %p\").apply(lambda x: x.time())"
   ]
  },
  {
   "cell_type": "code",
   "execution_count": 179,
   "metadata": {
    "collapsed": false,
    "scrolled": false
   },
   "outputs": [],
   "source": [
    "#df3=df2.join(df1)"
   ]
  },
  {
   "cell_type": "raw",
   "metadata": {},
   "source": [
    "# particle count multiplied by 10 to compensate for dilution\n",
    "df1['Cn [P/cm^3]']=df1['Cn [P/cm^3]']/10\n",
    "df2['Cn [P/cm^3]']=df2['Cn [P/cm^3]']*10"
   ]
  },
  {
   "cell_type": "code",
   "execution_count": 266,
   "metadata": {
    "collapsed": false
   },
   "outputs": [],
   "source": [
    "# time range for each test\n",
    "r1_1=datetime.time(12,38,45); r1_2=datetime.time(12,48,45)\n",
    "r2_1=datetime.time(12,52,30); r2_2=datetime.time(13,2,30)\n",
    "r3_1=datetime.time(13,6,30); r3_2=datetime.time(13,16,30)\n",
    "r4_1=datetime.time(13,21); r4_2=datetime.time(13,31)\n",
    "r5_1=datetime.time(13,34); r5_2=datetime.time(13,44)\n",
    "r6_1=datetime.time(13,49); r6_2=datetime.time(13,59)\n",
    "r7_1=datetime.time(14,4); r7_2=datetime.time(14,14)\n",
    "r8_1=datetime.time(14,17); r8_2=datetime.time(14,27)\n",
    "r9_1=datetime.time(14,30); r9_2=datetime.time(14,40)\n",
    "r10_1=datetime.time(14,44); r10_2=datetime.time(14,54)\n",
    "r11_1=datetime.time(14,57); r11_2=datetime.time(15,7)\n",
    "r12_1=datetime.time(15,10); r12_2=datetime.time(15,20)\n",
    "r13_1=datetime.time(15,23); r13_2=datetime.time(15,33)"
   ]
  },
  {
   "cell_type": "code",
   "execution_count": 267,
   "metadata": {
    "collapsed": false
   },
   "outputs": [],
   "source": [
    "df1=df1.set_index('time')\n",
    "df2=df2.set_index('time')"
   ]
  },
  {
   "cell_type": "code",
   "execution_count": 268,
   "metadata": {
    "collapsed": false
   },
   "outputs": [],
   "source": [
    "# slice dataframe by time ranges\n",
    "test1=df1.ix[r1_1:r1_2].reset_index()\n",
    "test2=df1.ix[r2_1:r2_2].reset_index()\n",
    "test3=df1.ix[r3_1:r3_2].reset_index()\n",
    "test4=df1.ix[r4_1:r4_2].reset_index()\n",
    "test5=df1.ix[r5_1:r5_2].reset_index()\n",
    "test6=df1.ix[r6_1:r6_2].reset_index()\n",
    "test7=df1.ix[r7_1:r7_2].reset_index()\n",
    "test8=df2.ix[r8_1:r8_2].reset_index()\n",
    "test9=df2.ix[r9_1:r9_2].reset_index()\n",
    "test10=df2.ix[r10_1:r10_2].reset_index()\n",
    "test11=df2.ix[r11_1:r11_2].reset_index()\n",
    "test12=df2.ix[r12_1:r12_2].reset_index()\n",
    "test13=df2.ix[r13_1:r13_2].reset_index()"
   ]
  },
  {
   "cell_type": "code",
   "execution_count": 269,
   "metadata": {
    "collapsed": false
   },
   "outputs": [
    {
     "name": "stdout",
     "output_type": "stream",
     "text": [
      "sample size:\n",
      "600\n",
      "601\n",
      "600\n",
      "601\n",
      "601\n",
      "600\n",
      "601\n",
      "601\n",
      "601\n",
      "601\n",
      "601\n",
      "601\n",
      "600\n"
     ]
    }
   ],
   "source": [
    "print('sample size:')\n",
    "print(test1.shape[0])\n",
    "print(test2.shape[0])\n",
    "print(test3.shape[0])\n",
    "print(test4.shape[0])\n",
    "print(test5.shape[0])\n",
    "print(test6.shape[0])\n",
    "print(test7.shape[0])\n",
    "print(test8.shape[0])\n",
    "print(test9.shape[0])\n",
    "print(test10.shape[0])\n",
    "print(test11.shape[0])\n",
    "print(test12.shape[0])\n",
    "print(test13.shape[0])"
   ]
  },
  {
   "cell_type": "raw",
   "metadata": {},
   "source": [
    "format = \"%I:%M:%S %p\"\n",
    "datetime.datetime.strptime(r12_1,format).time()"
   ]
  },
  {
   "cell_type": "code",
   "execution_count": null,
   "metadata": {
    "collapsed": true
   },
   "outputs": [],
   "source": []
  },
  {
   "cell_type": "code",
   "execution_count": 270,
   "metadata": {
    "collapsed": false
   },
   "outputs": [],
   "source": [
    "mean1=test1['Cn [P/cm^3]'].mean()\n",
    "mean2=test2['Cn [P/cm^3]'].mean()\n",
    "mean3=test3['Cn [P/cm^3]'].mean()\n",
    "mean4=test4['Cn [P/cm^3]'].mean()\n",
    "mean5=test5['Cn [P/cm^3]'].mean()\n",
    "mean6=test6['Cn [P/cm^3]'].mean()\n",
    "mean7=test7['Cn [P/cm^3]'].mean()\n",
    "mean8=test8['Cn [P/cm^3]'].mean()\n",
    "mean9=test9['Cn [P/cm^3]'].mean()\n",
    "mean10=test10['Cn [P/cm^3]'].mean()\n",
    "mean11=test11['Cn [P/cm^3]'].mean()\n",
    "mean12=test12['Cn [P/cm^3]'].mean()\n",
    "mean13=test13['Cn [P/cm^3]'].mean()"
   ]
  },
  {
   "cell_type": "code",
   "execution_count": 271,
   "metadata": {
    "collapsed": false
   },
   "outputs": [],
   "source": [
    "meanlist=[mean1, mean2, mean3, mean4, mean5, mean6, mean7, mean8, mean9, mean10, mean11, mean12, mean13]"
   ]
  },
  {
   "cell_type": "code",
   "execution_count": 272,
   "metadata": {
    "collapsed": false
   },
   "outputs": [
    {
     "data": {
      "text/plain": [
       "(76143, 45990)"
      ]
     },
     "execution_count": 272,
     "metadata": {},
     "output_type": "execute_result"
    }
   ],
   "source": [
    "round(max(meanlist)), round(min(meanlist))"
   ]
  },
  {
   "cell_type": "code",
   "execution_count": 276,
   "metadata": {
    "collapsed": false
   },
   "outputs": [
    {
     "data": {
      "text/plain": [
       "[56984.597258990136,\n",
       " 64366.6515636275,\n",
       " 76142.86826144703,\n",
       " 51153.97945469398,\n",
       " 45990.44690479545,\n",
       " 48904.32753892681,\n",
       " 52426.27688215655,\n",
       " 58147.32088108833,\n",
       " 66019.80462231804,\n",
       " 63210.24124489376,\n",
       " 58503.40403350599,\n",
       " 57511.99388701347,\n",
       " 55690.24048165847]"
      ]
     },
     "execution_count": 276,
     "metadata": {},
     "output_type": "execute_result"
    }
   ],
   "source": [
    "meanlist"
   ]
  },
  {
   "cell_type": "code",
   "execution_count": 275,
   "metadata": {
    "collapsed": false
   },
   "outputs": [
    {
     "data": {
      "text/plain": [
       "[<matplotlib.lines.Line2D at 0x11962b6a0>]"
      ]
     },
     "execution_count": 275,
     "metadata": {},
     "output_type": "execute_result"
    },
    {
     "data": {
      "image/png": "[encoded data removed]",
      "text/plain": [
       "<matplotlib.figure.Figure at 0x119519a20>"
      ]
     },
     "metadata": {},
     "output_type": "display_data"
    }
   ],
   "source": [
    "plt.plot(test1['time'],test1['Cn [P/cm^3]'])"
   ]
  },
  {
   "cell_type": "code",
   "execution_count": null,
   "metadata": {
    "collapsed": true
   },
   "outputs": [],
   "source": []
  }
 ],
 "metadata": {
  "anaconda-cloud": {},
  "kernelspec": {
   "display_name": "Python [default]",
   "language": "python",
   "name": "python3"
  },
  "language_info": {
   "codemirror_mode": {
    "name": "ipython",
    "version": 3
   },
   "file_extension": ".py",
   "mimetype": "text/x-python",
   "name": "python",
   "nbconvert_exporter": "python",
   "pygments_lexer": "ipython3",
   "version": "3.5.2"
  }
 },
 "nbformat": 4,
 "nbformat_minor": 1
}
