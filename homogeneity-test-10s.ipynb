{
 "cells": [
  {
   "cell_type": "code",
   "execution_count": 48,
   "metadata": {
    "collapsed": true
   },
   "outputs": [],
   "source": [
    "import pandas as pd\n",
    "import numpy as np\n",
    "from __future__ import division\n",
    "import calendar\n",
    "import time\n",
    "import datetime\n",
    "from datetime import date, timedelta\n",
    "import matplotlib.pyplot as plt\n",
    "%matplotlib inline\n",
    "import seaborn as sns\n",
    "from scipy import stats"
   ]
  },
  {
   "cell_type": "code",
   "execution_count": 3,
   "metadata": {
    "collapsed": false
   },
   "outputs": [],
   "source": [
    "file1=pd.read_table('Exported 10s data.txt')"
   ]
  },
  {
   "cell_type": "code",
   "execution_count": 4,
   "metadata": {
    "collapsed": false
   },
   "outputs": [],
   "source": [
    "df1=file1.copy(False)"
   ]
  },
  {
   "cell_type": "code",
   "execution_count": 5,
   "metadata": {
    "collapsed": true
   },
   "outputs": [],
   "source": [
    "del df1['relative time [s]']"
   ]
  },
  {
   "cell_type": "code",
   "execution_count": 6,
   "metadata": {
    "collapsed": true
   },
   "outputs": [],
   "source": [
    "df1['time']=pd.to_datetime(df1['time'], format = \"%I:%M:%S %p\").apply(lambda x: x.time())"
   ]
  },
  {
   "cell_type": "code",
   "execution_count": 179,
   "metadata": {
    "collapsed": false,
    "scrolled": false
   },
   "outputs": [],
   "source": [
    "#df3=df2.join(df1)"
   ]
  },
  {
   "cell_type": "raw",
   "metadata": {},
   "source": [
    "# particle count multiplied by 10 to compensate for dilution\n",
    "df1['Cn [P/cm^3]']=df1['Cn [P/cm^3]']/10"
   ]
  },
  {
   "cell_type": "code",
   "execution_count": 25,
   "metadata": {
    "collapsed": false
   },
   "outputs": [],
   "source": [
    "# time range for each test\n",
    "r0_1=datetime.time(12,27,45); r0_2=datetime.time(12,37,45)\n",
    "r1_1=datetime.time(12,38,45); r1_2=datetime.time(12,48,45)\n",
    "r2_1=datetime.time(12,52,30); r2_2=datetime.time(13,2,30)\n",
    "r3_1=datetime.time(13,6,30); r3_2=datetime.time(13,16,30)\n",
    "r4_1=datetime.time(13,21); r4_2=datetime.time(13,31)\n",
    "r5_1=datetime.time(13,34); r5_2=datetime.time(13,44)\n",
    "r6_1=datetime.time(13,49); r6_2=datetime.time(13,59)\n",
    "r7_1=datetime.time(14,4); r7_2=datetime.time(14,14)\n",
    "r8_1=datetime.time(14,17); r8_2=datetime.time(14,27)\n",
    "r9_1=datetime.time(14,30); r9_2=datetime.time(14,40)\n",
    "r10_1=datetime.time(14,44); r10_2=datetime.time(14,54)\n",
    "r11_1=datetime.time(14,57); r11_2=datetime.time(15,7)\n",
    "r12_1=datetime.time(15,10); r12_2=datetime.time(15,20)\n",
    "r13_1=datetime.time(15,23); r13_2=datetime.time(15,33)"
   ]
  },
  {
   "cell_type": "code",
   "execution_count": 11,
   "metadata": {
    "collapsed": false
   },
   "outputs": [],
   "source": [
    "df1=df1.set_index('time')"
   ]
  },
  {
   "cell_type": "code",
   "execution_count": 26,
   "metadata": {
    "collapsed": false
   },
   "outputs": [],
   "source": [
    "# slice dataframe by time ranges\n",
    "test0=df1.ix[r0_1:r0_2].reset_index()\n",
    "test1=df1.ix[r1_1:r1_2].reset_index()\n",
    "test2=df1.ix[r2_1:r2_2].reset_index()\n",
    "test3=df1.ix[r3_1:r3_2].reset_index()\n",
    "test4=df1.ix[r4_1:r4_2].reset_index()\n",
    "test5=df1.ix[r5_1:r5_2].reset_index()\n",
    "test6=df1.ix[r6_1:r6_2].reset_index()\n",
    "test7=df1.ix[r7_1:r7_2].reset_index()\n",
    "test8=df1.ix[r8_1:r8_2].reset_index()\n",
    "test9=df1.ix[r9_1:r9_2].reset_index()\n",
    "test10=df1.ix[r10_1:r10_2].reset_index()\n",
    "test11=df1.ix[r11_1:r11_2].reset_index()\n",
    "test12=df1.ix[r12_1:r12_2].reset_index()\n",
    "test13=df1.ix[r13_1:r13_2].reset_index()"
   ]
  },
  {
   "cell_type": "code",
   "execution_count": 27,
   "metadata": {
    "collapsed": false
   },
   "outputs": [
    {
     "name": "stdout",
     "output_type": "stream",
     "text": [
      "sample size:\n",
      "62\n",
      "61\n",
      "62\n",
      "62\n",
      "62\n",
      "62\n",
      "62\n",
      "61\n",
      "62\n",
      "62\n",
      "62\n",
      "62\n",
      "62\n",
      "61\n"
     ]
    }
   ],
   "source": [
    "print('sample size:')\n",
    "print(test0.shape[0])\n",
    "print(test1.shape[0])\n",
    "print(test2.shape[0])\n",
    "print(test3.shape[0])\n",
    "print(test4.shape[0])\n",
    "print(test5.shape[0])\n",
    "print(test6.shape[0])\n",
    "print(test7.shape[0])\n",
    "print(test8.shape[0])\n",
    "print(test9.shape[0])\n",
    "print(test10.shape[0])\n",
    "print(test11.shape[0])\n",
    "print(test12.shape[0])\n",
    "print(test13.shape[0])"
   ]
  },
  {
   "cell_type": "raw",
   "metadata": {},
   "source": [
    "format = \"%I:%M:%S %p\"\n",
    "datetime.datetime.strptime(r12_1,format).time()"
   ]
  },
  {
   "cell_type": "code",
   "execution_count": null,
   "metadata": {
    "collapsed": true
   },
   "outputs": [],
   "source": []
  },
  {
   "cell_type": "code",
   "execution_count": 28,
   "metadata": {
    "collapsed": false
   },
   "outputs": [],
   "source": [
    "mean0=test0['Cn [P/cm^3]'].mean()\n",
    "mean1=test1['Cn [P/cm^3]'].mean()\n",
    "mean2=test2['Cn [P/cm^3]'].mean()\n",
    "mean3=test3['Cn [P/cm^3]'].mean()\n",
    "mean4=test4['Cn [P/cm^3]'].mean()\n",
    "mean5=test5['Cn [P/cm^3]'].mean()\n",
    "mean6=test6['Cn [P/cm^3]'].mean()\n",
    "mean7=test7['Cn [P/cm^3]'].mean()\n",
    "mean8=test8['Cn [P/cm^3]'].mean()\n",
    "mean9=test9['Cn [P/cm^3]'].mean()\n",
    "mean10=test10['Cn [P/cm^3]'].mean()\n",
    "mean11=test11['Cn [P/cm^3]'].mean()\n",
    "mean12=test12['Cn [P/cm^3]'].mean()\n",
    "mean13=test13['Cn [P/cm^3]'].mean()"
   ]
  },
  {
   "cell_type": "code",
   "execution_count": 29,
   "metadata": {
    "collapsed": false
   },
   "outputs": [],
   "source": [
    "meanlist=[mean0,mean1,mean2,mean3,mean4,mean5,mean6,mean7,mean8,mean9,mean10,mean11,mean12,mean13]"
   ]
  },
  {
   "cell_type": "code",
   "execution_count": 30,
   "metadata": {
    "collapsed": false
   },
   "outputs": [
    {
     "data": {
      "text/plain": [
       "(76097, 46013)"
      ]
     },
     "execution_count": 30,
     "metadata": {},
     "output_type": "execute_result"
    }
   ],
   "source": [
    "round(max(meanlist)), round(min(meanlist))"
   ]
  },
  {
   "cell_type": "code",
   "execution_count": 31,
   "metadata": {
    "collapsed": false
   },
   "outputs": [
    {
     "data": {
      "text/plain": [
       "[66939.09746706451,\n",
       " 56913.20126783606,\n",
       " 64308.71421356451,\n",
       " 76096.51801890318,\n",
       " 51151.15435980645,\n",
       " 46012.99168337098,\n",
       " 48903.82799887096,\n",
       " 52460.92744614755,\n",
       " 58199.487966112894,\n",
       " 66012.2012346774,\n",
       " 63213.40612382256,\n",
       " 58516.45703109676,\n",
       " 57562.83700848386,\n",
       " 55677.55840144261]"
      ]
     },
     "execution_count": 31,
     "metadata": {},
     "output_type": "execute_result"
    }
   ],
   "source": [
    "meanlist"
   ]
  },
  {
   "cell_type": "code",
   "execution_count": 52,
   "metadata": {
    "collapsed": false
   },
   "outputs": [],
   "source": [
    "sd0=np.std(test0['Cn [P/cm^3]'])\n",
    "sd1=np.std(test1['Cn [P/cm^3]'])\n",
    "sd2=np.std(test2['Cn [P/cm^3]'])\n",
    "sd3=np.std(test3['Cn [P/cm^3]'])\n",
    "sd4=np.std(test4['Cn [P/cm^3]'])\n",
    "sd5=np.std(test5['Cn [P/cm^3]'])\n",
    "sd6=np.std(test6['Cn [P/cm^3]'])\n",
    "sd7=np.std(test7['Cn [P/cm^3]'])\n",
    "sd8=np.std(test8['Cn [P/cm^3]'])\n",
    "sd9=np.std(test9['Cn [P/cm^3]'])\n",
    "sd10=np.std(test10['Cn [P/cm^3]'])\n",
    "sd11=np.std(test11['Cn [P/cm^3]'])\n",
    "sd12=np.std(test12['Cn [P/cm^3]'])\n",
    "sd13=np.std(test13['Cn [P/cm^3]'])"
   ]
  },
  {
   "cell_type": "code",
   "execution_count": 32,
   "metadata": {
    "collapsed": false
   },
   "outputs": [
    {
     "data": {
      "text/plain": [
       "[<matplotlib.lines.Line2D at 0x1185ccdd8>]"
      ]
     },
     "execution_count": 32,
     "metadata": {},
     "output_type": "execute_result"
    },
    {
     "data": {
      "image/png": "[encoded data removed]",
      "text/plain": [
       "<matplotlib.figure.Figure at 0x118282c50>"
      ]
     },
     "metadata": {},
     "output_type": "display_data"
    }
   ],
   "source": [
    "plt.plot(test1['time'],test1['Cn [P/cm^3]'])\n",
    "#plt.ylim([0,62000])"
   ]
  }
 ],
 "metadata": {
  "anaconda-cloud": {},
  "kernelspec": {
   "display_name": "Python [default]",
   "language": "python",
   "name": "python3"
  },
  "language_info": {
   "codemirror_mode": {
    "name": "ipython",
    "version": 3
   },
   "file_extension": ".py",
   "mimetype": "text/x-python",
   "name": "python",
   "nbconvert_exporter": "python",
   "pygments_lexer": "ipython3",
   "version": "3.5.2"
  }
 },
 "nbformat": 4,
 "nbformat_minor": 1
}
